{
 "cells": [
  {
   "cell_type": "markdown",
   "metadata": {},
   "source": [
    "# Something!\n",
    "\n",
    "This is mine and Brandon Moretti's Skills Lab 6. Our program takes your name and year and says hello."
   ]
  },
  {
   "cell_type": "code",
   "execution_count": null,
   "metadata": {},
   "outputs": [],
   "source": [
    "def main():\n",
    "    name = input(\"Enter your name: \")\n",
    "    years = ['freshman', 'sophomore', 'junior', 'senior']\n",
    "    while True:\n",
    "        year = input(\"Enter your year (freshman, sophomore, junior, or senior): \")\n",
    "        if year.lower() in years:\n",
    "            break\n",
    "        else:\n",
    "            print(\"Invalid year.\")\n",
    "    grad_in = (4 - years.index(year.lower())) + 2022\n",
    "    print(\"Hello, \" + name + \". You will graduate in \" + str(grad_in) + \".\")\n",
    "\n",
    "if __name__ == \"__main__\":\n",
    "    main()"
   ]
  }
 ],
 "metadata": {
  "kernelspec": {
   "display_name": "Python 3.9.13 64-bit",
   "language": "python",
   "name": "python3"
  },
  "language_info": {
   "codemirror_mode": {
    "name": "ipython",
    "version": 3
   },
   "file_extension": ".py",
   "mimetype": "text/x-python",
   "name": "python",
   "nbconvert_exporter": "python",
   "pygments_lexer": "ipython3",
   "version": "3.9.13"
  },
  "vscode": {
   "interpreter": {
    "hash": "aee8b7b246df8f9039afb4144a1f6fd8d2ca17a180786b69acc140d282b71a49"
   }
  }
 },
 "nbformat": 4,
 "nbformat_minor": 4
}
